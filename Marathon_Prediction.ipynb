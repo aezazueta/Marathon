{
  "nbformat": 4,
  "nbformat_minor": 0,
  "metadata": {
    "colab": {
      "provenance": [],
      "collapsed_sections": [],
      "authorship_tag": "ABX9TyNULJr9U3ZCljjAYuNbN3cr",
      "include_colab_link": true
    },
    "kernelspec": {
      "name": "python3",
      "display_name": "Python 3"
    },
    "language_info": {
      "name": "python"
    }
  },
  "cells": [
    {
      "cell_type": "markdown",
      "metadata": {
        "id": "view-in-github",
        "colab_type": "text"
      },
      "source": [
        "<a href=\"https://colab.research.google.com/github/aezazueta/Marathon/blob/main/Marathon_Prediction.ipynb\" target=\"_parent\"><img src=\"https://colab.research.google.com/assets/colab-badge.svg\" alt=\"Open In Colab\"/></a>"
      ]
    },
    {
      "cell_type": "code",
      "execution_count": null,
      "metadata": {
        "colab": {
          "base_uri": "https://localhost:8080/",
          "height": 73
        },
        "id": "td8XFEL8ucJn",
        "outputId": "0d0940b6-ef48-44a6-c170-8339f03ecfb8"
      },
      "outputs": [
        {
          "output_type": "display_data",
          "data": {
            "text/plain": [
              "<IPython.core.display.HTML object>"
            ],
            "text/html": [
              "\n",
              "     <input type=\"file\" id=\"files-15a00d97-35ae-4ec3-858f-9f655c4f45d5\" name=\"files[]\" multiple disabled\n",
              "        style=\"border:none\" />\n",
              "     <output id=\"result-15a00d97-35ae-4ec3-858f-9f655c4f45d5\">\n",
              "      Upload widget is only available when the cell has been executed in the\n",
              "      current browser session. Please rerun this cell to enable.\n",
              "      </output>\n",
              "      <script>// Copyright 2017 Google LLC\n",
              "//\n",
              "// Licensed under the Apache License, Version 2.0 (the \"License\");\n",
              "// you may not use this file except in compliance with the License.\n",
              "// You may obtain a copy of the License at\n",
              "//\n",
              "//      http://www.apache.org/licenses/LICENSE-2.0\n",
              "//\n",
              "// Unless required by applicable law or agreed to in writing, software\n",
              "// distributed under the License is distributed on an \"AS IS\" BASIS,\n",
              "// WITHOUT WARRANTIES OR CONDITIONS OF ANY KIND, either express or implied.\n",
              "// See the License for the specific language governing permissions and\n",
              "// limitations under the License.\n",
              "\n",
              "/**\n",
              " * @fileoverview Helpers for google.colab Python module.\n",
              " */\n",
              "(function(scope) {\n",
              "function span(text, styleAttributes = {}) {\n",
              "  const element = document.createElement('span');\n",
              "  element.textContent = text;\n",
              "  for (const key of Object.keys(styleAttributes)) {\n",
              "    element.style[key] = styleAttributes[key];\n",
              "  }\n",
              "  return element;\n",
              "}\n",
              "\n",
              "// Max number of bytes which will be uploaded at a time.\n",
              "const MAX_PAYLOAD_SIZE = 100 * 1024;\n",
              "\n",
              "function _uploadFiles(inputId, outputId) {\n",
              "  const steps = uploadFilesStep(inputId, outputId);\n",
              "  const outputElement = document.getElementById(outputId);\n",
              "  // Cache steps on the outputElement to make it available for the next call\n",
              "  // to uploadFilesContinue from Python.\n",
              "  outputElement.steps = steps;\n",
              "\n",
              "  return _uploadFilesContinue(outputId);\n",
              "}\n",
              "\n",
              "// This is roughly an async generator (not supported in the browser yet),\n",
              "// where there are multiple asynchronous steps and the Python side is going\n",
              "// to poll for completion of each step.\n",
              "// This uses a Promise to block the python side on completion of each step,\n",
              "// then passes the result of the previous step as the input to the next step.\n",
              "function _uploadFilesContinue(outputId) {\n",
              "  const outputElement = document.getElementById(outputId);\n",
              "  const steps = outputElement.steps;\n",
              "\n",
              "  const next = steps.next(outputElement.lastPromiseValue);\n",
              "  return Promise.resolve(next.value.promise).then((value) => {\n",
              "    // Cache the last promise value to make it available to the next\n",
              "    // step of the generator.\n",
              "    outputElement.lastPromiseValue = value;\n",
              "    return next.value.response;\n",
              "  });\n",
              "}\n",
              "\n",
              "/**\n",
              " * Generator function which is called between each async step of the upload\n",
              " * process.\n",
              " * @param {string} inputId Element ID of the input file picker element.\n",
              " * @param {string} outputId Element ID of the output display.\n",
              " * @return {!Iterable<!Object>} Iterable of next steps.\n",
              " */\n",
              "function* uploadFilesStep(inputId, outputId) {\n",
              "  const inputElement = document.getElementById(inputId);\n",
              "  inputElement.disabled = false;\n",
              "\n",
              "  const outputElement = document.getElementById(outputId);\n",
              "  outputElement.innerHTML = '';\n",
              "\n",
              "  const pickedPromise = new Promise((resolve) => {\n",
              "    inputElement.addEventListener('change', (e) => {\n",
              "      resolve(e.target.files);\n",
              "    });\n",
              "  });\n",
              "\n",
              "  const cancel = document.createElement('button');\n",
              "  inputElement.parentElement.appendChild(cancel);\n",
              "  cancel.textContent = 'Cancel upload';\n",
              "  const cancelPromise = new Promise((resolve) => {\n",
              "    cancel.onclick = () => {\n",
              "      resolve(null);\n",
              "    };\n",
              "  });\n",
              "\n",
              "  // Wait for the user to pick the files.\n",
              "  const files = yield {\n",
              "    promise: Promise.race([pickedPromise, cancelPromise]),\n",
              "    response: {\n",
              "      action: 'starting',\n",
              "    }\n",
              "  };\n",
              "\n",
              "  cancel.remove();\n",
              "\n",
              "  // Disable the input element since further picks are not allowed.\n",
              "  inputElement.disabled = true;\n",
              "\n",
              "  if (!files) {\n",
              "    return {\n",
              "      response: {\n",
              "        action: 'complete',\n",
              "      }\n",
              "    };\n",
              "  }\n",
              "\n",
              "  for (const file of files) {\n",
              "    const li = document.createElement('li');\n",
              "    li.append(span(file.name, {fontWeight: 'bold'}));\n",
              "    li.append(span(\n",
              "        `(${file.type || 'n/a'}) - ${file.size} bytes, ` +\n",
              "        `last modified: ${\n",
              "            file.lastModifiedDate ? file.lastModifiedDate.toLocaleDateString() :\n",
              "                                    'n/a'} - `));\n",
              "    const percent = span('0% done');\n",
              "    li.appendChild(percent);\n",
              "\n",
              "    outputElement.appendChild(li);\n",
              "\n",
              "    const fileDataPromise = new Promise((resolve) => {\n",
              "      const reader = new FileReader();\n",
              "      reader.onload = (e) => {\n",
              "        resolve(e.target.result);\n",
              "      };\n",
              "      reader.readAsArrayBuffer(file);\n",
              "    });\n",
              "    // Wait for the data to be ready.\n",
              "    let fileData = yield {\n",
              "      promise: fileDataPromise,\n",
              "      response: {\n",
              "        action: 'continue',\n",
              "      }\n",
              "    };\n",
              "\n",
              "    // Use a chunked sending to avoid message size limits. See b/62115660.\n",
              "    let position = 0;\n",
              "    do {\n",
              "      const length = Math.min(fileData.byteLength - position, MAX_PAYLOAD_SIZE);\n",
              "      const chunk = new Uint8Array(fileData, position, length);\n",
              "      position += length;\n",
              "\n",
              "      const base64 = btoa(String.fromCharCode.apply(null, chunk));\n",
              "      yield {\n",
              "        response: {\n",
              "          action: 'append',\n",
              "          file: file.name,\n",
              "          data: base64,\n",
              "        },\n",
              "      };\n",
              "\n",
              "      let percentDone = fileData.byteLength === 0 ?\n",
              "          100 :\n",
              "          Math.round((position / fileData.byteLength) * 100);\n",
              "      percent.textContent = `${percentDone}% done`;\n",
              "\n",
              "    } while (position < fileData.byteLength);\n",
              "  }\n",
              "\n",
              "  // All done.\n",
              "  yield {\n",
              "    response: {\n",
              "      action: 'complete',\n",
              "    }\n",
              "  };\n",
              "}\n",
              "\n",
              "scope.google = scope.google || {};\n",
              "scope.google.colab = scope.google.colab || {};\n",
              "scope.google.colab._files = {\n",
              "  _uploadFiles,\n",
              "  _uploadFilesContinue,\n",
              "};\n",
              "})(self);\n",
              "</script> "
            ]
          },
          "metadata": {}
        },
        {
          "output_type": "stream",
          "name": "stdout",
          "text": [
            "Saving MarathonData.csv to MarathonData (1).csv\n"
          ]
        }
      ],
      "source": [
        "from google.colab import files\n",
        "uploaded = files.upload()\n",
        "#OJO: Si arroja un error de tipo \"Cannot read property '_uploadFiles' of undefined \n",
        "#in google colaboratory\" seguir los pasos de activacion de cookies de terceros\n",
        "#enlace = shorturl.at/nX389"
      ]
    },
    {
      "cell_type": "markdown",
      "source": [
        "Visualización rápida de los datos"
      ],
      "metadata": {
        "id": "kavxS48LHuDk"
      }
    },
    {
      "cell_type": "code",
      "source": [
        "import io\n",
        "import pandas as pd\n",
        "dfMarathon = pd.read_csv(io.BytesIO(uploaded['MarathonData.csv']))\n",
        "dfMarathon.head()"
      ],
      "metadata": {
        "colab": {
          "base_uri": "https://localhost:8080/",
          "height": 206
        },
        "id": "ME0Zym0byj8k",
        "outputId": "9e7025ba-a0e8-46b1-e650-5d49638ee345"
      },
      "execution_count": null,
      "outputs": [
        {
          "output_type": "execute_result",
          "data": {
            "text/plain": [
              "   id  Marathon           Name Category  km4week    sp4week CrossTraining  \\\n",
              "0   1  Prague17   Blair MORGAN      MAM    132.8  14.434783           NaN   \n",
              "1   2  Prague17  Robert Heczko      MAM     68.6  13.674419           NaN   \n",
              "2   3  Prague17  Michon Jerome      MAM     82.7  13.520436           NaN   \n",
              "3   4  Prague17  Daniel Or lek      M45    137.5  12.258544           NaN   \n",
              "4   5  Prague17   Luk ? Mr zek      MAM     84.6  13.945055           NaN   \n",
              "\n",
              "  Wall21  MarathonTime CATEGORY  \n",
              "0   1.16          2.37        A  \n",
              "1   1.23          2.59        A  \n",
              "2   1.30          2.66        A  \n",
              "3   1.32          2.68        A  \n",
              "4   1.36          2.74        A  "
            ],
            "text/html": [
              "\n",
              "  <div id=\"df-0da12104-967d-48f7-8d10-79d02aa1f8ee\">\n",
              "    <div class=\"colab-df-container\">\n",
              "      <div>\n",
              "<style scoped>\n",
              "    .dataframe tbody tr th:only-of-type {\n",
              "        vertical-align: middle;\n",
              "    }\n",
              "\n",
              "    .dataframe tbody tr th {\n",
              "        vertical-align: top;\n",
              "    }\n",
              "\n",
              "    .dataframe thead th {\n",
              "        text-align: right;\n",
              "    }\n",
              "</style>\n",
              "<table border=\"1\" class=\"dataframe\">\n",
              "  <thead>\n",
              "    <tr style=\"text-align: right;\">\n",
              "      <th></th>\n",
              "      <th>id</th>\n",
              "      <th>Marathon</th>\n",
              "      <th>Name</th>\n",
              "      <th>Category</th>\n",
              "      <th>km4week</th>\n",
              "      <th>sp4week</th>\n",
              "      <th>CrossTraining</th>\n",
              "      <th>Wall21</th>\n",
              "      <th>MarathonTime</th>\n",
              "      <th>CATEGORY</th>\n",
              "    </tr>\n",
              "  </thead>\n",
              "  <tbody>\n",
              "    <tr>\n",
              "      <th>0</th>\n",
              "      <td>1</td>\n",
              "      <td>Prague17</td>\n",
              "      <td>Blair MORGAN</td>\n",
              "      <td>MAM</td>\n",
              "      <td>132.8</td>\n",
              "      <td>14.434783</td>\n",
              "      <td>NaN</td>\n",
              "      <td>1.16</td>\n",
              "      <td>2.37</td>\n",
              "      <td>A</td>\n",
              "    </tr>\n",
              "    <tr>\n",
              "      <th>1</th>\n",
              "      <td>2</td>\n",
              "      <td>Prague17</td>\n",
              "      <td>Robert Heczko</td>\n",
              "      <td>MAM</td>\n",
              "      <td>68.6</td>\n",
              "      <td>13.674419</td>\n",
              "      <td>NaN</td>\n",
              "      <td>1.23</td>\n",
              "      <td>2.59</td>\n",
              "      <td>A</td>\n",
              "    </tr>\n",
              "    <tr>\n",
              "      <th>2</th>\n",
              "      <td>3</td>\n",
              "      <td>Prague17</td>\n",
              "      <td>Michon Jerome</td>\n",
              "      <td>MAM</td>\n",
              "      <td>82.7</td>\n",
              "      <td>13.520436</td>\n",
              "      <td>NaN</td>\n",
              "      <td>1.30</td>\n",
              "      <td>2.66</td>\n",
              "      <td>A</td>\n",
              "    </tr>\n",
              "    <tr>\n",
              "      <th>3</th>\n",
              "      <td>4</td>\n",
              "      <td>Prague17</td>\n",
              "      <td>Daniel Or lek</td>\n",
              "      <td>M45</td>\n",
              "      <td>137.5</td>\n",
              "      <td>12.258544</td>\n",
              "      <td>NaN</td>\n",
              "      <td>1.32</td>\n",
              "      <td>2.68</td>\n",
              "      <td>A</td>\n",
              "    </tr>\n",
              "    <tr>\n",
              "      <th>4</th>\n",
              "      <td>5</td>\n",
              "      <td>Prague17</td>\n",
              "      <td>Luk ? Mr zek</td>\n",
              "      <td>MAM</td>\n",
              "      <td>84.6</td>\n",
              "      <td>13.945055</td>\n",
              "      <td>NaN</td>\n",
              "      <td>1.36</td>\n",
              "      <td>2.74</td>\n",
              "      <td>A</td>\n",
              "    </tr>\n",
              "  </tbody>\n",
              "</table>\n",
              "</div>\n",
              "      <button class=\"colab-df-convert\" onclick=\"convertToInteractive('df-0da12104-967d-48f7-8d10-79d02aa1f8ee')\"\n",
              "              title=\"Convert this dataframe to an interactive table.\"\n",
              "              style=\"display:none;\">\n",
              "        \n",
              "  <svg xmlns=\"http://www.w3.org/2000/svg\" height=\"24px\"viewBox=\"0 0 24 24\"\n",
              "       width=\"24px\">\n",
              "    <path d=\"M0 0h24v24H0V0z\" fill=\"none\"/>\n",
              "    <path d=\"M18.56 5.44l.94 2.06.94-2.06 2.06-.94-2.06-.94-.94-2.06-.94 2.06-2.06.94zm-11 1L8.5 8.5l.94-2.06 2.06-.94-2.06-.94L8.5 2.5l-.94 2.06-2.06.94zm10 10l.94 2.06.94-2.06 2.06-.94-2.06-.94-.94-2.06-.94 2.06-2.06.94z\"/><path d=\"M17.41 7.96l-1.37-1.37c-.4-.4-.92-.59-1.43-.59-.52 0-1.04.2-1.43.59L10.3 9.45l-7.72 7.72c-.78.78-.78 2.05 0 2.83L4 21.41c.39.39.9.59 1.41.59.51 0 1.02-.2 1.41-.59l7.78-7.78 2.81-2.81c.8-.78.8-2.07 0-2.86zM5.41 20L4 18.59l7.72-7.72 1.47 1.35L5.41 20z\"/>\n",
              "  </svg>\n",
              "      </button>\n",
              "      \n",
              "  <style>\n",
              "    .colab-df-container {\n",
              "      display:flex;\n",
              "      flex-wrap:wrap;\n",
              "      gap: 12px;\n",
              "    }\n",
              "\n",
              "    .colab-df-convert {\n",
              "      background-color: #E8F0FE;\n",
              "      border: none;\n",
              "      border-radius: 50%;\n",
              "      cursor: pointer;\n",
              "      display: none;\n",
              "      fill: #1967D2;\n",
              "      height: 32px;\n",
              "      padding: 0 0 0 0;\n",
              "      width: 32px;\n",
              "    }\n",
              "\n",
              "    .colab-df-convert:hover {\n",
              "      background-color: #E2EBFA;\n",
              "      box-shadow: 0px 1px 2px rgba(60, 64, 67, 0.3), 0px 1px 3px 1px rgba(60, 64, 67, 0.15);\n",
              "      fill: #174EA6;\n",
              "    }\n",
              "\n",
              "    [theme=dark] .colab-df-convert {\n",
              "      background-color: #3B4455;\n",
              "      fill: #D2E3FC;\n",
              "    }\n",
              "\n",
              "    [theme=dark] .colab-df-convert:hover {\n",
              "      background-color: #434B5C;\n",
              "      box-shadow: 0px 1px 3px 1px rgba(0, 0, 0, 0.15);\n",
              "      filter: drop-shadow(0px 1px 2px rgba(0, 0, 0, 0.3));\n",
              "      fill: #FFFFFF;\n",
              "    }\n",
              "  </style>\n",
              "\n",
              "      <script>\n",
              "        const buttonEl =\n",
              "          document.querySelector('#df-0da12104-967d-48f7-8d10-79d02aa1f8ee button.colab-df-convert');\n",
              "        buttonEl.style.display =\n",
              "          google.colab.kernel.accessAllowed ? 'block' : 'none';\n",
              "\n",
              "        async function convertToInteractive(key) {\n",
              "          const element = document.querySelector('#df-0da12104-967d-48f7-8d10-79d02aa1f8ee');\n",
              "          const dataTable =\n",
              "            await google.colab.kernel.invokeFunction('convertToInteractive',\n",
              "                                                     [key], {});\n",
              "          if (!dataTable) return;\n",
              "\n",
              "          const docLinkHtml = 'Like what you see? Visit the ' +\n",
              "            '<a target=\"_blank\" href=https://colab.research.google.com/notebooks/data_table.ipynb>data table notebook</a>'\n",
              "            + ' to learn more about interactive tables.';\n",
              "          element.innerHTML = '';\n",
              "          dataTable['output_type'] = 'display_data';\n",
              "          await google.colab.output.renderOutput(dataTable, element);\n",
              "          const docLink = document.createElement('div');\n",
              "          docLink.innerHTML = docLinkHtml;\n",
              "          element.appendChild(docLink);\n",
              "        }\n",
              "      </script>\n",
              "    </div>\n",
              "  </div>\n",
              "  "
            ]
          },
          "metadata": {},
          "execution_count": 34
        }
      ]
    },
    {
      "cell_type": "code",
      "source": [
        "dfMarathon['Name']"
      ],
      "metadata": {
        "colab": {
          "base_uri": "https://localhost:8080/"
        },
        "id": "7-_BXxHqzGyx",
        "outputId": "a4a5ac81-4b0a-4c6d-a371-5c888b517133"
      },
      "execution_count": null,
      "outputs": [
        {
          "output_type": "execute_result",
          "data": {
            "text/plain": [
              "0         Blair MORGAN\n",
              "1        Robert Heczko\n",
              "2        Michon Jerome\n",
              "3        Daniel Or lek\n",
              "4         Luk ? Mr zek\n",
              "            ...       \n",
              "82    Stefano Vegliani\n",
              "83      Andrej Madliak\n",
              "84          Yoi Ohsako\n",
              "85          Simon Dunn\n",
              "86         Pavel ?imek\n",
              "Name: Name, Length: 87, dtype: object"
            ]
          },
          "metadata": {},
          "execution_count": 35
        }
      ]
    },
    {
      "cell_type": "code",
      "source": [
        "dfMarathon.info()"
      ],
      "metadata": {
        "colab": {
          "base_uri": "https://localhost:8080/"
        },
        "id": "hVOs3198zTsd",
        "outputId": "4b86f010-5c31-4a65-cf7a-1247213ee48e"
      },
      "execution_count": null,
      "outputs": [
        {
          "output_type": "stream",
          "name": "stdout",
          "text": [
            "<class 'pandas.core.frame.DataFrame'>\n",
            "RangeIndex: 87 entries, 0 to 86\n",
            "Data columns (total 10 columns):\n",
            " #   Column         Non-Null Count  Dtype  \n",
            "---  ------         --------------  -----  \n",
            " 0   id             87 non-null     int64  \n",
            " 1   Marathon       87 non-null     object \n",
            " 2   Name           87 non-null     object \n",
            " 3   Category       81 non-null     object \n",
            " 4   km4week        87 non-null     float64\n",
            " 5   sp4week        87 non-null     float64\n",
            " 6   CrossTraining  13 non-null     object \n",
            " 7   Wall21         87 non-null     object \n",
            " 8   MarathonTime   87 non-null     float64\n",
            " 9   CATEGORY       87 non-null     object \n",
            "dtypes: float64(3), int64(1), object(6)\n",
            "memory usage: 6.9+ KB\n"
          ]
        }
      ]
    },
    {
      "cell_type": "markdown",
      "source": [
        "La columna \"Wall21\" contiene valores numéricos, sin embargo están formateados como tipo object. Se procede a cambio de tipo de valor."
      ],
      "metadata": {
        "id": "lHIYbegJIDTF"
      }
    },
    {
      "cell_type": "code",
      "source": [
        "dfMarathon['Wall21'] = pd.to_numeric(dfMarathon['Wall21'], errors= 'coerce')"
      ],
      "metadata": {
        "id": "17CBh5_mzaGx"
      },
      "execution_count": null,
      "outputs": []
    },
    {
      "cell_type": "code",
      "source": [
        "dfMarathon.describe()"
      ],
      "metadata": {
        "colab": {
          "base_uri": "https://localhost:8080/",
          "height": 300
        },
        "id": "YB2X91uN0QZW",
        "outputId": "965ecd10-800d-4600-e1e9-3d6e2e321d00"
      },
      "execution_count": null,
      "outputs": [
        {
          "output_type": "execute_result",
          "data": {
            "text/plain": [
              "              id     km4week       sp4week     Wall21  MarathonTime\n",
              "count  87.000000   87.000000     87.000000  81.000000     87.000000\n",
              "mean   44.000000   62.347126    139.840706   1.630617      3.319080\n",
              "std    25.258662   26.956019   1191.427864   0.210490      0.376923\n",
              "min     1.000000   17.900000      8.031414   1.160000      2.370000\n",
              "25%    22.500000   44.200000     11.498168   1.450000      3.045000\n",
              "50%    44.000000   58.800000     12.163424   1.620000      3.320000\n",
              "75%    65.500000   77.500000     12.854036   1.760000      3.605000\n",
              "max    87.000000  137.500000  11125.000000   2.050000      3.980000"
            ],
            "text/html": [
              "\n",
              "  <div id=\"df-3fdc8837-3316-4410-9107-d7320faaca4a\">\n",
              "    <div class=\"colab-df-container\">\n",
              "      <div>\n",
              "<style scoped>\n",
              "    .dataframe tbody tr th:only-of-type {\n",
              "        vertical-align: middle;\n",
              "    }\n",
              "\n",
              "    .dataframe tbody tr th {\n",
              "        vertical-align: top;\n",
              "    }\n",
              "\n",
              "    .dataframe thead th {\n",
              "        text-align: right;\n",
              "    }\n",
              "</style>\n",
              "<table border=\"1\" class=\"dataframe\">\n",
              "  <thead>\n",
              "    <tr style=\"text-align: right;\">\n",
              "      <th></th>\n",
              "      <th>id</th>\n",
              "      <th>km4week</th>\n",
              "      <th>sp4week</th>\n",
              "      <th>Wall21</th>\n",
              "      <th>MarathonTime</th>\n",
              "    </tr>\n",
              "  </thead>\n",
              "  <tbody>\n",
              "    <tr>\n",
              "      <th>count</th>\n",
              "      <td>87.000000</td>\n",
              "      <td>87.000000</td>\n",
              "      <td>87.000000</td>\n",
              "      <td>81.000000</td>\n",
              "      <td>87.000000</td>\n",
              "    </tr>\n",
              "    <tr>\n",
              "      <th>mean</th>\n",
              "      <td>44.000000</td>\n",
              "      <td>62.347126</td>\n",
              "      <td>139.840706</td>\n",
              "      <td>1.630617</td>\n",
              "      <td>3.319080</td>\n",
              "    </tr>\n",
              "    <tr>\n",
              "      <th>std</th>\n",
              "      <td>25.258662</td>\n",
              "      <td>26.956019</td>\n",
              "      <td>1191.427864</td>\n",
              "      <td>0.210490</td>\n",
              "      <td>0.376923</td>\n",
              "    </tr>\n",
              "    <tr>\n",
              "      <th>min</th>\n",
              "      <td>1.000000</td>\n",
              "      <td>17.900000</td>\n",
              "      <td>8.031414</td>\n",
              "      <td>1.160000</td>\n",
              "      <td>2.370000</td>\n",
              "    </tr>\n",
              "    <tr>\n",
              "      <th>25%</th>\n",
              "      <td>22.500000</td>\n",
              "      <td>44.200000</td>\n",
              "      <td>11.498168</td>\n",
              "      <td>1.450000</td>\n",
              "      <td>3.045000</td>\n",
              "    </tr>\n",
              "    <tr>\n",
              "      <th>50%</th>\n",
              "      <td>44.000000</td>\n",
              "      <td>58.800000</td>\n",
              "      <td>12.163424</td>\n",
              "      <td>1.620000</td>\n",
              "      <td>3.320000</td>\n",
              "    </tr>\n",
              "    <tr>\n",
              "      <th>75%</th>\n",
              "      <td>65.500000</td>\n",
              "      <td>77.500000</td>\n",
              "      <td>12.854036</td>\n",
              "      <td>1.760000</td>\n",
              "      <td>3.605000</td>\n",
              "    </tr>\n",
              "    <tr>\n",
              "      <th>max</th>\n",
              "      <td>87.000000</td>\n",
              "      <td>137.500000</td>\n",
              "      <td>11125.000000</td>\n",
              "      <td>2.050000</td>\n",
              "      <td>3.980000</td>\n",
              "    </tr>\n",
              "  </tbody>\n",
              "</table>\n",
              "</div>\n",
              "      <button class=\"colab-df-convert\" onclick=\"convertToInteractive('df-3fdc8837-3316-4410-9107-d7320faaca4a')\"\n",
              "              title=\"Convert this dataframe to an interactive table.\"\n",
              "              style=\"display:none;\">\n",
              "        \n",
              "  <svg xmlns=\"http://www.w3.org/2000/svg\" height=\"24px\"viewBox=\"0 0 24 24\"\n",
              "       width=\"24px\">\n",
              "    <path d=\"M0 0h24v24H0V0z\" fill=\"none\"/>\n",
              "    <path d=\"M18.56 5.44l.94 2.06.94-2.06 2.06-.94-2.06-.94-.94-2.06-.94 2.06-2.06.94zm-11 1L8.5 8.5l.94-2.06 2.06-.94-2.06-.94L8.5 2.5l-.94 2.06-2.06.94zm10 10l.94 2.06.94-2.06 2.06-.94-2.06-.94-.94-2.06-.94 2.06-2.06.94z\"/><path d=\"M17.41 7.96l-1.37-1.37c-.4-.4-.92-.59-1.43-.59-.52 0-1.04.2-1.43.59L10.3 9.45l-7.72 7.72c-.78.78-.78 2.05 0 2.83L4 21.41c.39.39.9.59 1.41.59.51 0 1.02-.2 1.41-.59l7.78-7.78 2.81-2.81c.8-.78.8-2.07 0-2.86zM5.41 20L4 18.59l7.72-7.72 1.47 1.35L5.41 20z\"/>\n",
              "  </svg>\n",
              "      </button>\n",
              "      \n",
              "  <style>\n",
              "    .colab-df-container {\n",
              "      display:flex;\n",
              "      flex-wrap:wrap;\n",
              "      gap: 12px;\n",
              "    }\n",
              "\n",
              "    .colab-df-convert {\n",
              "      background-color: #E8F0FE;\n",
              "      border: none;\n",
              "      border-radius: 50%;\n",
              "      cursor: pointer;\n",
              "      display: none;\n",
              "      fill: #1967D2;\n",
              "      height: 32px;\n",
              "      padding: 0 0 0 0;\n",
              "      width: 32px;\n",
              "    }\n",
              "\n",
              "    .colab-df-convert:hover {\n",
              "      background-color: #E2EBFA;\n",
              "      box-shadow: 0px 1px 2px rgba(60, 64, 67, 0.3), 0px 1px 3px 1px rgba(60, 64, 67, 0.15);\n",
              "      fill: #174EA6;\n",
              "    }\n",
              "\n",
              "    [theme=dark] .colab-df-convert {\n",
              "      background-color: #3B4455;\n",
              "      fill: #D2E3FC;\n",
              "    }\n",
              "\n",
              "    [theme=dark] .colab-df-convert:hover {\n",
              "      background-color: #434B5C;\n",
              "      box-shadow: 0px 1px 3px 1px rgba(0, 0, 0, 0.15);\n",
              "      filter: drop-shadow(0px 1px 2px rgba(0, 0, 0, 0.3));\n",
              "      fill: #FFFFFF;\n",
              "    }\n",
              "  </style>\n",
              "\n",
              "      <script>\n",
              "        const buttonEl =\n",
              "          document.querySelector('#df-3fdc8837-3316-4410-9107-d7320faaca4a button.colab-df-convert');\n",
              "        buttonEl.style.display =\n",
              "          google.colab.kernel.accessAllowed ? 'block' : 'none';\n",
              "\n",
              "        async function convertToInteractive(key) {\n",
              "          const element = document.querySelector('#df-3fdc8837-3316-4410-9107-d7320faaca4a');\n",
              "          const dataTable =\n",
              "            await google.colab.kernel.invokeFunction('convertToInteractive',\n",
              "                                                     [key], {});\n",
              "          if (!dataTable) return;\n",
              "\n",
              "          const docLinkHtml = 'Like what you see? Visit the ' +\n",
              "            '<a target=\"_blank\" href=https://colab.research.google.com/notebooks/data_table.ipynb>data table notebook</a>'\n",
              "            + ' to learn more about interactive tables.';\n",
              "          element.innerHTML = '';\n",
              "          dataTable['output_type'] = 'display_data';\n",
              "          await google.colab.output.renderOutput(dataTable, element);\n",
              "          const docLink = document.createElement('div');\n",
              "          docLink.innerHTML = docLinkHtml;\n",
              "          element.appendChild(docLink);\n",
              "        }\n",
              "      </script>\n",
              "    </div>\n",
              "  </div>\n",
              "  "
            ]
          },
          "metadata": {},
          "execution_count": 38
        }
      ]
    },
    {
      "cell_type": "markdown",
      "source": [
        "Visualización de datos numéricos en histogramas para buscar posibles patrones"
      ],
      "metadata": {
        "id": "5Mj-tqw0IthN"
      }
    },
    {
      "cell_type": "code",
      "source": [
        "dfMarathon.hist()"
      ],
      "metadata": {
        "colab": {
          "base_uri": "https://localhost:8080/",
          "height": 409
        },
        "id": "3gs0aDS60Wtm",
        "outputId": "8a2a2c50-6bc1-473e-a975-c1c5cf7d9a5f"
      },
      "execution_count": null,
      "outputs": [
        {
          "output_type": "execute_result",
          "data": {
            "text/plain": [
              "array([[<matplotlib.axes._subplots.AxesSubplot object at 0x7fc5436dd590>,\n",
              "        <matplotlib.axes._subplots.AxesSubplot object at 0x7fc5435e53d0>],\n",
              "       [<matplotlib.axes._subplots.AxesSubplot object at 0x7fc54359a9d0>,\n",
              "        <matplotlib.axes._subplots.AxesSubplot object at 0x7fc543544ad0>],\n",
              "       [<matplotlib.axes._subplots.AxesSubplot object at 0x7fc543512610>,\n",
              "        <matplotlib.axes._subplots.AxesSubplot object at 0x7fc5434c7c10>]],\n",
              "      dtype=object)"
            ]
          },
          "metadata": {},
          "execution_count": 39
        },
        {
          "output_type": "display_data",
          "data": {
            "text/plain": [
              "<Figure size 432x288 with 6 Axes>"
            ],
            "image/png": "[encoded data removed]"
          },
          "metadata": {
            "needs_background": "light"
          }
        }
      ]
    },
    {
      "cell_type": "markdown",
      "source": [
        "Se procede a eliminar columnas que no aportan información significativa para el entrenamiento del modelo."
      ],
      "metadata": {
        "id": "WhacwFAbJUTX"
      }
    },
    {
      "cell_type": "code",
      "source": [
        "dfMarathon.drop(columns=['Name', 'id', 'Marathon', 'CATEGORY'], inplace=True)\n",
        "dfMarathon.head()"
      ],
      "metadata": {
        "colab": {
          "base_uri": "https://localhost:8080/",
          "height": 206
        },
        "id": "CWPdlzST1Ows",
        "outputId": "5fa8eed6-edc7-4f48-aa7b-775c1d380f42"
      },
      "execution_count": null,
      "outputs": [
        {
          "output_type": "execute_result",
          "data": {
            "text/plain": [
              "  Category  km4week    sp4week CrossTraining  Wall21  MarathonTime\n",
              "0      MAM    132.8  14.434783           NaN    1.16          2.37\n",
              "1      MAM     68.6  13.674419           NaN    1.23          2.59\n",
              "2      MAM     82.7  13.520436           NaN    1.30          2.66\n",
              "3      M45    137.5  12.258544           NaN    1.32          2.68\n",
              "4      MAM     84.6  13.945055           NaN    1.36          2.74"
            ],
            "text/html": [
              "\n",
              "  <div id=\"df-524184f7-85dd-416c-9176-ffe189385ff4\">\n",
              "    <div class=\"colab-df-container\">\n",
              "      <div>\n",
              "<style scoped>\n",
              "    .dataframe tbody tr th:only-of-type {\n",
              "        vertical-align: middle;\n",
              "    }\n",
              "\n",
              "    .dataframe tbody tr th {\n",
              "        vertical-align: top;\n",
              "    }\n",
              "\n",
              "    .dataframe thead th {\n",
              "        text-align: right;\n",
              "    }\n",
              "</style>\n",
              "<table border=\"1\" class=\"dataframe\">\n",
              "  <thead>\n",
              "    <tr style=\"text-align: right;\">\n",
              "      <th></th>\n",
              "      <th>Category</th>\n",
              "      <th>km4week</th>\n",
              "      <th>sp4week</th>\n",
              "      <th>CrossTraining</th>\n",
              "      <th>Wall21</th>\n",
              "      <th>MarathonTime</th>\n",
              "    </tr>\n",
              "  </thead>\n",
              "  <tbody>\n",
              "    <tr>\n",
              "      <th>0</th>\n",
              "      <td>MAM</td>\n",
              "      <td>132.8</td>\n",
              "      <td>14.434783</td>\n",
              "      <td>NaN</td>\n",
              "      <td>1.16</td>\n",
              "      <td>2.37</td>\n",
              "    </tr>\n",
              "    <tr>\n",
              "      <th>1</th>\n",
              "      <td>MAM</td>\n",
              "      <td>68.6</td>\n",
              "      <td>13.674419</td>\n",
              "      <td>NaN</td>\n",
              "      <td>1.23</td>\n",
              "      <td>2.59</td>\n",
              "    </tr>\n",
              "    <tr>\n",
              "      <th>2</th>\n",
              "      <td>MAM</td>\n",
              "      <td>82.7</td>\n",
              "      <td>13.520436</td>\n",
              "      <td>NaN</td>\n",
              "      <td>1.30</td>\n",
              "      <td>2.66</td>\n",
              "    </tr>\n",
              "    <tr>\n",
              "      <th>3</th>\n",
              "      <td>M45</td>\n",
              "      <td>137.5</td>\n",
              "      <td>12.258544</td>\n",
              "      <td>NaN</td>\n",
              "      <td>1.32</td>\n",
              "      <td>2.68</td>\n",
              "    </tr>\n",
              "    <tr>\n",
              "      <th>4</th>\n",
              "      <td>MAM</td>\n",
              "      <td>84.6</td>\n",
              "      <td>13.945055</td>\n",
              "      <td>NaN</td>\n",
              "      <td>1.36</td>\n",
              "      <td>2.74</td>\n",
              "    </tr>\n",
              "  </tbody>\n",
              "</table>\n",
              "</div>\n",
              "      <button class=\"colab-df-convert\" onclick=\"convertToInteractive('df-524184f7-85dd-416c-9176-ffe189385ff4')\"\n",
              "              title=\"Convert this dataframe to an interactive table.\"\n",
              "              style=\"display:none;\">\n",
              "        \n",
              "  <svg xmlns=\"http://www.w3.org/2000/svg\" height=\"24px\"viewBox=\"0 0 24 24\"\n",
              "       width=\"24px\">\n",
              "    <path d=\"M0 0h24v24H0V0z\" fill=\"none\"/>\n",
              "    <path d=\"M18.56 5.44l.94 2.06.94-2.06 2.06-.94-2.06-.94-.94-2.06-.94 2.06-2.06.94zm-11 1L8.5 8.5l.94-2.06 2.06-.94-2.06-.94L8.5 2.5l-.94 2.06-2.06.94zm10 10l.94 2.06.94-2.06 2.06-.94-2.06-.94-.94-2.06-.94 2.06-2.06.94z\"/><path d=\"M17.41 7.96l-1.37-1.37c-.4-.4-.92-.59-1.43-.59-.52 0-1.04.2-1.43.59L10.3 9.45l-7.72 7.72c-.78.78-.78 2.05 0 2.83L4 21.41c.39.39.9.59 1.41.59.51 0 1.02-.2 1.41-.59l7.78-7.78 2.81-2.81c.8-.78.8-2.07 0-2.86zM5.41 20L4 18.59l7.72-7.72 1.47 1.35L5.41 20z\"/>\n",
              "  </svg>\n",
              "      </button>\n",
              "      \n",
              "  <style>\n",
              "    .colab-df-container {\n",
              "      display:flex;\n",
              "      flex-wrap:wrap;\n",
              "      gap: 12px;\n",
              "    }\n",
              "\n",
              "    .colab-df-convert {\n",
              "      background-color: #E8F0FE;\n",
              "      border: none;\n",
              "      border-radius: 50%;\n",
              "      cursor: pointer;\n",
              "      display: none;\n",
              "      fill: #1967D2;\n",
              "      height: 32px;\n",
              "      padding: 0 0 0 0;\n",
              "      width: 32px;\n",
              "    }\n",
              "\n",
              "    .colab-df-convert:hover {\n",
              "      background-color: #E2EBFA;\n",
              "      box-shadow: 0px 1px 2px rgba(60, 64, 67, 0.3), 0px 1px 3px 1px rgba(60, 64, 67, 0.15);\n",
              "      fill: #174EA6;\n",
              "    }\n",
              "\n",
              "    [theme=dark] .colab-df-convert {\n",
              "      background-color: #3B4455;\n",
              "      fill: #D2E3FC;\n",
              "    }\n",
              "\n",
              "    [theme=dark] .colab-df-convert:hover {\n",
              "      background-color: #434B5C;\n",
              "      box-shadow: 0px 1px 3px 1px rgba(0, 0, 0, 0.15);\n",
              "      filter: drop-shadow(0px 1px 2px rgba(0, 0, 0, 0.3));\n",
              "      fill: #FFFFFF;\n",
              "    }\n",
              "  </style>\n",
              "\n",
              "      <script>\n",
              "        const buttonEl =\n",
              "          document.querySelector('#df-524184f7-85dd-416c-9176-ffe189385ff4 button.colab-df-convert');\n",
              "        buttonEl.style.display =\n",
              "          google.colab.kernel.accessAllowed ? 'block' : 'none';\n",
              "\n",
              "        async function convertToInteractive(key) {\n",
              "          const element = document.querySelector('#df-524184f7-85dd-416c-9176-ffe189385ff4');\n",
              "          const dataTable =\n",
              "            await google.colab.kernel.invokeFunction('convertToInteractive',\n",
              "                                                     [key], {});\n",
              "          if (!dataTable) return;\n",
              "\n",
              "          const docLinkHtml = 'Like what you see? Visit the ' +\n",
              "            '<a target=\"_blank\" href=https://colab.research.google.com/notebooks/data_table.ipynb>data table notebook</a>'\n",
              "            + ' to learn more about interactive tables.';\n",
              "          element.innerHTML = '';\n",
              "          dataTable['output_type'] = 'display_data';\n",
              "          await google.colab.output.renderOutput(dataTable, element);\n",
              "          const docLink = document.createElement('div');\n",
              "          docLink.innerHTML = docLinkHtml;\n",
              "          element.appendChild(docLink);\n",
              "        }\n",
              "      </script>\n",
              "    </div>\n",
              "  </div>\n",
              "  "
            ]
          },
          "metadata": {},
          "execution_count": 40
        }
      ]
    },
    {
      "cell_type": "markdown",
      "source": [
        "Busqueda de elementos nulos"
      ],
      "metadata": {
        "id": "GfFHIiOfJrT8"
      }
    },
    {
      "cell_type": "code",
      "source": [
        "dfMarathon.isna().sum()"
      ],
      "metadata": {
        "colab": {
          "base_uri": "https://localhost:8080/"
        },
        "id": "_TBLtIrc2aLa",
        "outputId": "3584af67-ae2b-4eb3-df89-f47bd5123f42"
      },
      "execution_count": null,
      "outputs": [
        {
          "output_type": "execute_result",
          "data": {
            "text/plain": [
              "Category          6\n",
              "km4week           0\n",
              "sp4week           0\n",
              "CrossTraining    74\n",
              "Wall21            6\n",
              "MarathonTime      0\n",
              "dtype: int64"
            ]
          },
          "metadata": {},
          "execution_count": 41
        }
      ]
    },
    {
      "cell_type": "markdown",
      "source": [
        "La columna 'CrossTraining' contiene muchos valores nulos, su auscencia se debe probablemente a que no se realizó tal actividad por lo que se reemplazarán los nulos por 0."
      ],
      "metadata": {
        "id": "ONTkLEVDJ9Ud"
      }
    },
    {
      "cell_type": "code",
      "source": [
        "dfMarathon['CrossTraining'] = dfMarathon['CrossTraining'].fillna(0)\n",
        "dfMarathon.isna().sum()"
      ],
      "metadata": {
        "colab": {
          "base_uri": "https://localhost:8080/"
        },
        "id": "_vSaouUX21be",
        "outputId": "8440a9b1-5084-44e5-c54f-fb3e1a5f7d94"
      },
      "execution_count": null,
      "outputs": [
        {
          "output_type": "execute_result",
          "data": {
            "text/plain": [
              "Category         6\n",
              "km4week          0\n",
              "sp4week          0\n",
              "CrossTraining    0\n",
              "Wall21           6\n",
              "MarathonTime     0\n",
              "dtype: int64"
            ]
          },
          "metadata": {},
          "execution_count": 42
        }
      ]
    },
    {
      "cell_type": "markdown",
      "source": [
        "Como los valores nulos de las columnas 'Category' y 'Wall21' coinciden en las mismas entradas y representan menos del 10% del total entonces se eliminan."
      ],
      "metadata": {
        "id": "QlJWRDBfKw1E"
      }
    },
    {
      "cell_type": "code",
      "source": [
        "dfMarathon.dropna(inplace=True, how='any')\n",
        "print(\"Entradas restantes: \", dfMarathon.shape[0])\n",
        "dfMarathon.isna().sum()"
      ],
      "metadata": {
        "colab": {
          "base_uri": "https://localhost:8080/"
        },
        "id": "KTV95tUL3j1M",
        "outputId": "b7a387d8-a309-4107-ec4b-3fb71567ae6b"
      },
      "execution_count": null,
      "outputs": [
        {
          "output_type": "stream",
          "name": "stdout",
          "text": [
            "Entradas restantes:  81\n"
          ]
        },
        {
          "output_type": "execute_result",
          "data": {
            "text/plain": [
              "Category         0\n",
              "km4week          0\n",
              "sp4week          0\n",
              "CrossTraining    0\n",
              "Wall21           0\n",
              "MarathonTime     0\n",
              "dtype: int64"
            ]
          },
          "metadata": {},
          "execution_count": 43
        }
      ]
    },
    {
      "cell_type": "markdown",
      "source": [
        "Comprobación de 0 valores nulos en el dataset"
      ],
      "metadata": {
        "id": "Ai2yXX9FLke9"
      }
    },
    {
      "cell_type": "code",
      "source": [
        "dfMarathon.info()"
      ],
      "metadata": {
        "colab": {
          "base_uri": "https://localhost:8080/"
        },
        "id": "BiFEmZIH4J4V",
        "outputId": "44b65a54-178b-478f-e126-89da99567d88"
      },
      "execution_count": null,
      "outputs": [
        {
          "output_type": "stream",
          "name": "stdout",
          "text": [
            "<class 'pandas.core.frame.DataFrame'>\n",
            "Int64Index: 81 entries, 0 to 86\n",
            "Data columns (total 6 columns):\n",
            " #   Column         Non-Null Count  Dtype  \n",
            "---  ------         --------------  -----  \n",
            " 0   Category       81 non-null     object \n",
            " 1   km4week        81 non-null     float64\n",
            " 2   sp4week        81 non-null     float64\n",
            " 3   CrossTraining  81 non-null     object \n",
            " 4   Wall21         81 non-null     float64\n",
            " 5   MarathonTime   81 non-null     float64\n",
            "dtypes: float64(4), object(2)\n",
            "memory usage: 4.4+ KB\n"
          ]
        }
      ]
    },
    {
      "cell_type": "markdown",
      "source": [
        "Exploración de valores del campo 'CrossTraining'. Se detecta que los valores hacen referencia a un vslor numérico (tiempo en horas), por lo que se procede a aplicar label encoding "
      ],
      "metadata": {
        "id": "HoQ8nzDXLsit"
      }
    },
    {
      "cell_type": "code",
      "source": [
        "dfMarathon['CrossTraining'].unique()"
      ],
      "metadata": {
        "colab": {
          "base_uri": "https://localhost:8080/"
        },
        "id": "ZojSRh9d4WFC",
        "outputId": "67e7f496-3283-41a5-d61d-5fcb603b1093"
      },
      "execution_count": null,
      "outputs": [
        {
          "output_type": "execute_result",
          "data": {
            "text/plain": [
              "array([0, 'ciclista 1h', 'ciclista 4h', 'ciclista 13h', 'ciclista 3h',\n",
              "       'ciclista 5h'], dtype=object)"
            ]
          },
          "metadata": {},
          "execution_count": 45
        }
      ]
    },
    {
      "cell_type": "code",
      "source": [
        "#fMarathon['CrossTraining'].map({'ciclista 1h':1, 'ciclista 3h':2, 'ciclista 4h':3, 'ciclista 5h': 4, 'ciclista 13h':5})\n",
        "#dfMarathon['CrossTraining'].unique()     NO FUNCIONÓ\n"
      ],
      "metadata": {
        "id": "ZBKnbhoE4pel"
      },
      "execution_count": null,
      "outputs": []
    },
    {
      "cell_type": "code",
      "source": [
        "valoresCross = {'CrossTraining':  {'ciclista 1h':1, 'ciclista 3h':3, 'ciclista 4h':4, 'ciclista 5h':5, 'ciclista 13h':13}}\n",
        "dfMarathon.replace(valoresCross, inplace=True)\n",
        "dfMarathon['CrossTraining'].unique()"
      ],
      "metadata": {
        "colab": {
          "base_uri": "https://localhost:8080/"
        },
        "id": "EbIR9IKD7KUi",
        "outputId": "f6b187b6-9741-4176-e1fc-4b5f08fd786a"
      },
      "execution_count": null,
      "outputs": [
        {
          "output_type": "execute_result",
          "data": {
            "text/plain": [
              "array([ 0,  1,  4, 13,  3,  5])"
            ]
          },
          "metadata": {},
          "execution_count": 47
        }
      ]
    },
    {
      "cell_type": "code",
      "source": [
        "dfMarathon['Category'].unique()"
      ],
      "metadata": {
        "colab": {
          "base_uri": "https://localhost:8080/"
        },
        "id": "pitZU3dA73g7",
        "outputId": "ce0ad78e-5d33-4f18-aadb-4075541ed06e"
      },
      "execution_count": null,
      "outputs": [
        {
          "output_type": "execute_result",
          "data": {
            "text/plain": [
              "array(['MAM', 'M45', 'M40', 'M50', 'M55', 'WAM'], dtype=object)"
            ]
          },
          "metadata": {},
          "execution_count": 48
        }
      ]
    },
    {
      "cell_type": "code",
      "source": [
        "Category_dummy = pd.get_dummies(dfMarathon['Category'], prefix='CAT')\n",
        "dfMarathon = pd.concat([dfMarathon, Category_dummy], axis=1)\n",
        "dfMarathon = dfMarathon.drop(['Category'], axis=1)\n",
        "dfMarathon.head(15)"
      ],
      "metadata": {
        "colab": {
          "base_uri": "https://localhost:8080/",
          "height": 519
        },
        "id": "P8SWmzriVvtn",
        "outputId": "c4d2218f-f2d6-4b52-a00e-9d44ec497bcf"
      },
      "execution_count": null,
      "outputs": [
        {
          "output_type": "execute_result",
          "data": {
            "text/plain": [
              "    km4week    sp4week  CrossTraining  Wall21  MarathonTime  CAT_M40  CAT_M45  \\\n",
              "0     132.8  14.434783              0    1.16          2.37        0        0   \n",
              "1      68.6  13.674419              0    1.23          2.59        0        0   \n",
              "2      82.7  13.520436              0    1.30          2.66        0        0   \n",
              "3     137.5  12.258544              0    1.32          2.68        0        1   \n",
              "4      84.6  13.945055              0    1.36          2.74        0        0   \n",
              "5      42.2  13.612903              0    1.32          2.78        1        0   \n",
              "6      89.0  12.594340              0    1.38          2.81        1        0   \n",
              "7     106.0  12.694611              0    1.41          2.84        0        1   \n",
              "8      70.0  13.770492              1    1.38          2.83        0        0   \n",
              "9      84.2  13.365079              0    1.35          2.86        0        1   \n",
              "10     93.5  13.200000              0    1.42          2.87        0        0   \n",
              "11     65.7  13.362712              0    1.40          2.87        0        0   \n",
              "12     53.5  14.078947              4    1.37          2.88        0        1   \n",
              "13     84.4  13.836066              0    1.41          2.88        1        0   \n",
              "14     76.8  12.943820              0    1.44          2.89        0        0   \n",
              "\n",
              "    CAT_M50  CAT_M55  CAT_MAM  CAT_WAM  \n",
              "0         0        0        1        0  \n",
              "1         0        0        1        0  \n",
              "2         0        0        1        0  \n",
              "3         0        0        0        0  \n",
              "4         0        0        1        0  \n",
              "5         0        0        0        0  \n",
              "6         0        0        0        0  \n",
              "7         0        0        0        0  \n",
              "8         0        0        1        0  \n",
              "9         0        0        0        0  \n",
              "10        0        0        1        0  \n",
              "11        1        0        0        0  \n",
              "12        0        0        0        0  \n",
              "13        0        0        0        0  \n",
              "14        0        0        1        0  "
            ],
            "text/html": [
              "\n",
              "  <div id=\"df-4609dcf4-5c5d-41af-b140-b436fcf52a70\">\n",
              "    <div class=\"colab-df-container\">\n",
              "      <div>\n",
              "<style scoped>\n",
              "    .dataframe tbody tr th:only-of-type {\n",
              "        vertical-align: middle;\n",
              "    }\n",
              "\n",
              "    .dataframe tbody tr th {\n",
              "        vertical-align: top;\n",
              "    }\n",
              "\n",
              "    .dataframe thead th {\n",
              "        text-align: right;\n",
              "    }\n",
              "</style>\n",
              "<table border=\"1\" class=\"dataframe\">\n",
              "  <thead>\n",
              "    <tr style=\"text-align: right;\">\n",
              "      <th></th>\n",
              "      <th>km4week</th>\n",
              "      <th>sp4week</th>\n",
              "      <th>CrossTraining</th>\n",
              "      <th>Wall21</th>\n",
              "      <th>MarathonTime</th>\n",
              "      <th>CAT_M40</th>\n",
              "      <th>CAT_M45</th>\n",
              "      <th>CAT_M50</th>\n",
              "      <th>CAT_M55</th>\n",
              "      <th>CAT_MAM</th>\n",
              "      <th>CAT_WAM</th>\n",
              "    </tr>\n",
              "  </thead>\n",
              "  <tbody>\n",
              "    <tr>\n",
              "      <th>0</th>\n",
              "      <td>132.8</td>\n",
              "      <td>14.434783</td>\n",
              "      <td>0</td>\n",
              "      <td>1.16</td>\n",
              "      <td>2.37</td>\n",
              "      <td>0</td>\n",
              "      <td>0</td>\n",
              "      <td>0</td>\n",
              "      <td>0</td>\n",
              "      <td>1</td>\n",
              "      <td>0</td>\n",
              "    </tr>\n",
              "    <tr>\n",
              "      <th>1</th>\n",
              "      <td>68.6</td>\n",
              "      <td>13.674419</td>\n",
              "      <td>0</td>\n",
              "      <td>1.23</td>\n",
              "      <td>2.59</td>\n",
              "      <td>0</td>\n",
              "      <td>0</td>\n",
              "      <td>0</td>\n",
              "      <td>0</td>\n",
              "      <td>1</td>\n",
              "      <td>0</td>\n",
              "    </tr>\n",
              "    <tr>\n",
              "      <th>2</th>\n",
              "      <td>82.7</td>\n",
              "      <td>13.520436</td>\n",
              "      <td>0</td>\n",
              "      <td>1.30</td>\n",
              "      <td>2.66</td>\n",
              "      <td>0</td>\n",
              "      <td>0</td>\n",
              "      <td>0</td>\n",
              "      <td>0</td>\n",
              "      <td>1</td>\n",
              "      <td>0</td>\n",
              "    </tr>\n",
              "    <tr>\n",
              "      <th>3</th>\n",
              "      <td>137.5</td>\n",
              "      <td>12.258544</td>\n",
              "      <td>0</td>\n",
              "      <td>1.32</td>\n",
              "      <td>2.68</td>\n",
              "      <td>0</td>\n",
              "      <td>1</td>\n",
              "      <td>0</td>\n",
              "      <td>0</td>\n",
              "      <td>0</td>\n",
              "      <td>0</td>\n",
              "    </tr>\n",
              "    <tr>\n",
              "      <th>4</th>\n",
              "      <td>84.6</td>\n",
              "      <td>13.945055</td>\n",
              "      <td>0</td>\n",
              "      <td>1.36</td>\n",
              "      <td>2.74</td>\n",
              "      <td>0</td>\n",
              "      <td>0</td>\n",
              "      <td>0</td>\n",
              "      <td>0</td>\n",
              "      <td>1</td>\n",
              "      <td>0</td>\n",
              "    </tr>\n",
              "    <tr>\n",
              "      <th>5</th>\n",
              "      <td>42.2</td>\n",
              "      <td>13.612903</td>\n",
              "      <td>0</td>\n",
              "      <td>1.32</td>\n",
              "      <td>2.78</td>\n",
              "      <td>1</td>\n",
              "      <td>0</td>\n",
              "      <td>0</td>\n",
              "      <td>0</td>\n",
              "      <td>0</td>\n",
              "      <td>0</td>\n",
              "    </tr>\n",
              "    <tr>\n",
              "      <th>6</th>\n",
              "      <td>89.0</td>\n",
              "      <td>12.594340</td>\n",
              "      <td>0</td>\n",
              "      <td>1.38</td>\n",
              "      <td>2.81</td>\n",
              "      <td>1</td>\n",
              "      <td>0</td>\n",
              "      <td>0</td>\n",
              "      <td>0</td>\n",
              "      <td>0</td>\n",
              "      <td>0</td>\n",
              "    </tr>\n",
              "    <tr>\n",
              "      <th>7</th>\n",
              "      <td>106.0</td>\n",
              "      <td>12.694611</td>\n",
              "      <td>0</td>\n",
              "      <td>1.41</td>\n",
              "      <td>2.84</td>\n",
              "      <td>0</td>\n",
              "      <td>1</td>\n",
              "      <td>0</td>\n",
              "      <td>0</td>\n",
              "      <td>0</td>\n",
              "      <td>0</td>\n",
              "    </tr>\n",
              "    <tr>\n",
              "      <th>8</th>\n",
              "      <td>70.0</td>\n",
              "      <td>13.770492</td>\n",
              "      <td>1</td>\n",
              "      <td>1.38</td>\n",
              "      <td>2.83</td>\n",
              "      <td>0</td>\n",
              "      <td>0</td>\n",
              "      <td>0</td>\n",
              "      <td>0</td>\n",
              "      <td>1</td>\n",
              "      <td>0</td>\n",
              "    </tr>\n",
              "    <tr>\n",
              "      <th>9</th>\n",
              "      <td>84.2</td>\n",
              "      <td>13.365079</td>\n",
              "      <td>0</td>\n",
              "      <td>1.35</td>\n",
              "      <td>2.86</td>\n",
              "      <td>0</td>\n",
              "      <td>1</td>\n",
              "      <td>0</td>\n",
              "      <td>0</td>\n",
              "      <td>0</td>\n",
              "      <td>0</td>\n",
              "    </tr>\n",
              "    <tr>\n",
              "      <th>10</th>\n",
              "      <td>93.5</td>\n",
              "      <td>13.200000</td>\n",
              "      <td>0</td>\n",
              "      <td>1.42</td>\n",
              "      <td>2.87</td>\n",
              "      <td>0</td>\n",
              "      <td>0</td>\n",
              "      <td>0</td>\n",
              "      <td>0</td>\n",
              "      <td>1</td>\n",
              "      <td>0</td>\n",
              "    </tr>\n",
              "    <tr>\n",
              "      <th>11</th>\n",
              "      <td>65.7</td>\n",
              "      <td>13.362712</td>\n",
              "      <td>0</td>\n",
              "      <td>1.40</td>\n",
              "      <td>2.87</td>\n",
              "      <td>0</td>\n",
              "      <td>0</td>\n",
              "      <td>1</td>\n",
              "      <td>0</td>\n",
              "      <td>0</td>\n",
              "      <td>0</td>\n",
              "    </tr>\n",
              "    <tr>\n",
              "      <th>12</th>\n",
              "      <td>53.5</td>\n",
              "      <td>14.078947</td>\n",
              "      <td>4</td>\n",
              "      <td>1.37</td>\n",
              "      <td>2.88</td>\n",
              "      <td>0</td>\n",
              "      <td>1</td>\n",
              "      <td>0</td>\n",
              "      <td>0</td>\n",
              "      <td>0</td>\n",
              "      <td>0</td>\n",
              "    </tr>\n",
              "    <tr>\n",
              "      <th>13</th>\n",
              "      <td>84.4</td>\n",
              "      <td>13.836066</td>\n",
              "      <td>0</td>\n",
              "      <td>1.41</td>\n",
              "      <td>2.88</td>\n",
              "      <td>1</td>\n",
              "      <td>0</td>\n",
              "      <td>0</td>\n",
              "      <td>0</td>\n",
              "      <td>0</td>\n",
              "      <td>0</td>\n",
              "    </tr>\n",
              "    <tr>\n",
              "      <th>14</th>\n",
              "      <td>76.8</td>\n",
              "      <td>12.943820</td>\n",
              "      <td>0</td>\n",
              "      <td>1.44</td>\n",
              "      <td>2.89</td>\n",
              "      <td>0</td>\n",
              "      <td>0</td>\n",
              "      <td>0</td>\n",
              "      <td>0</td>\n",
              "      <td>1</td>\n",
              "      <td>0</td>\n",
              "    </tr>\n",
              "  </tbody>\n",
              "</table>\n",
              "</div>\n",
              "      <button class=\"colab-df-convert\" onclick=\"convertToInteractive('df-4609dcf4-5c5d-41af-b140-b436fcf52a70')\"\n",
              "              title=\"Convert this dataframe to an interactive table.\"\n",
              "              style=\"display:none;\">\n",
              "        \n",
              "  <svg xmlns=\"http://www.w3.org/2000/svg\" height=\"24px\"viewBox=\"0 0 24 24\"\n",
              "       width=\"24px\">\n",
              "    <path d=\"M0 0h24v24H0V0z\" fill=\"none\"/>\n",
              "    <path d=\"M18.56 5.44l.94 2.06.94-2.06 2.06-.94-2.06-.94-.94-2.06-.94 2.06-2.06.94zm-11 1L8.5 8.5l.94-2.06 2.06-.94-2.06-.94L8.5 2.5l-.94 2.06-2.06.94zm10 10l.94 2.06.94-2.06 2.06-.94-2.06-.94-.94-2.06-.94 2.06-2.06.94z\"/><path d=\"M17.41 7.96l-1.37-1.37c-.4-.4-.92-.59-1.43-.59-.52 0-1.04.2-1.43.59L10.3 9.45l-7.72 7.72c-.78.78-.78 2.05 0 2.83L4 21.41c.39.39.9.59 1.41.59.51 0 1.02-.2 1.41-.59l7.78-7.78 2.81-2.81c.8-.78.8-2.07 0-2.86zM5.41 20L4 18.59l7.72-7.72 1.47 1.35L5.41 20z\"/>\n",
              "  </svg>\n",
              "      </button>\n",
              "      \n",
              "  <style>\n",
              "    .colab-df-container {\n",
              "      display:flex;\n",
              "      flex-wrap:wrap;\n",
              "      gap: 12px;\n",
              "    }\n",
              "\n",
              "    .colab-df-convert {\n",
              "      background-color: #E8F0FE;\n",
              "      border: none;\n",
              "      border-radius: 50%;\n",
              "      cursor: pointer;\n",
              "      display: none;\n",
              "      fill: #1967D2;\n",
              "      height: 32px;\n",
              "      padding: 0 0 0 0;\n",
              "      width: 32px;\n",
              "    }\n",
              "\n",
              "    .colab-df-convert:hover {\n",
              "      background-color: #E2EBFA;\n",
              "      box-shadow: 0px 1px 2px rgba(60, 64, 67, 0.3), 0px 1px 3px 1px rgba(60, 64, 67, 0.15);\n",
              "      fill: #174EA6;\n",
              "    }\n",
              "\n",
              "    [theme=dark] .colab-df-convert {\n",
              "      background-color: #3B4455;\n",
              "      fill: #D2E3FC;\n",
              "    }\n",
              "\n",
              "    [theme=dark] .colab-df-convert:hover {\n",
              "      background-color: #434B5C;\n",
              "      box-shadow: 0px 1px 3px 1px rgba(0, 0, 0, 0.15);\n",
              "      filter: drop-shadow(0px 1px 2px rgba(0, 0, 0, 0.3));\n",
              "      fill: #FFFFFF;\n",
              "    }\n",
              "  </style>\n",
              "\n",
              "      <script>\n",
              "        const buttonEl =\n",
              "          document.querySelector('#df-4609dcf4-5c5d-41af-b140-b436fcf52a70 button.colab-df-convert');\n",
              "        buttonEl.style.display =\n",
              "          google.colab.kernel.accessAllowed ? 'block' : 'none';\n",
              "\n",
              "        async function convertToInteractive(key) {\n",
              "          const element = document.querySelector('#df-4609dcf4-5c5d-41af-b140-b436fcf52a70');\n",
              "          const dataTable =\n",
              "            await google.colab.kernel.invokeFunction('convertToInteractive',\n",
              "                                                     [key], {});\n",
              "          if (!dataTable) return;\n",
              "\n",
              "          const docLinkHtml = 'Like what you see? Visit the ' +\n",
              "            '<a target=\"_blank\" href=https://colab.research.google.com/notebooks/data_table.ipynb>data table notebook</a>'\n",
              "            + ' to learn more about interactive tables.';\n",
              "          element.innerHTML = '';\n",
              "          dataTable['output_type'] = 'display_data';\n",
              "          await google.colab.output.renderOutput(dataTable, element);\n",
              "          const docLink = document.createElement('div');\n",
              "          docLink.innerHTML = docLinkHtml;\n",
              "          element.appendChild(docLink);\n",
              "        }\n",
              "      </script>\n",
              "    </div>\n",
              "  </div>\n",
              "  "
            ]
          },
          "metadata": {},
          "execution_count": 49
        }
      ]
    },
    {
      "cell_type": "code",
      "source": [
        "#valoresCat = {'Category':   {'MAM':1, 'WAM':2, 'M40':3, 'M45':4, 'M50':5, 'M55':6}}\n",
        "#dfMarathon.replace(valoresCat, inplace=True)\n",
        "#dfMarathon['Category'].unique()"
      ],
      "metadata": {
        "id": "Q67uueUb7_pi"
      },
      "execution_count": null,
      "outputs": []
    },
    {
      "cell_type": "code",
      "source": [
        "import matplotlib.pyplot as plt\n",
        "plt.scatter(x= dfMarathon['km4week'], y= dfMarathon['MarathonTime'])\n",
        "plt.title('km4Week vs Marathon time')\n",
        "plt.xlabel('km4week')\n",
        "plt.ylabel('Marathon time')\n",
        "plt.show()"
      ],
      "metadata": {
        "colab": {
          "base_uri": "https://localhost:8080/",
          "height": 295
        },
        "id": "aBuGQHF48_3o",
        "outputId": "48baad19-85ea-414e-ea97-2bb334edefa4"
      },
      "execution_count": null,
      "outputs": [
        {
          "output_type": "display_data",
          "data": {
            "text/plain": [
              "<Figure size 432x288 with 1 Axes>"
            ],
            "image/png": "[encoded data removed]"
          },
          "metadata": {
            "needs_background": "light"
          }
        }
      ]
    },
    {
      "cell_type": "code",
      "source": [
        "plt.scatter(x= dfMarathon['sp4week'], y= dfMarathon['MarathonTime'])\n",
        "plt.title('sp4week vs Marathon time')\n",
        "plt.xlabel('sp4week')\n",
        "plt.ylabel('Marathon time')\n",
        "plt.show()"
      ],
      "metadata": {
        "colab": {
          "base_uri": "https://localhost:8080/",
          "height": 295
        },
        "id": "FzHdEtrf9wAF",
        "outputId": "ac25f858-90fe-4f81-f13a-dbc9bac4917c"
      },
      "execution_count": null,
      "outputs": [
        {
          "output_type": "display_data",
          "data": {
            "text/plain": [
              "<Figure size 432x288 with 1 Axes>"
            ],
            "image/png": "[encoded data removed]"
          },
          "metadata": {
            "needs_background": "light"
          }
        }
      ]
    },
    {
      "cell_type": "code",
      "source": [
        "dfMarathon = dfMarathon.query('sp4week<10000')"
      ],
      "metadata": {
        "id": "Ekh82T31-JHI"
      },
      "execution_count": null,
      "outputs": []
    },
    {
      "cell_type": "code",
      "source": [
        "plt.scatter(x= dfMarathon['sp4week'], y= dfMarathon['MarathonTime'])\n",
        "plt.title('sp4week vs Marathon time')\n",
        "plt.xlabel('sp4week')\n",
        "plt.ylabel('Marathon time')\n",
        "plt.show()"
      ],
      "metadata": {
        "colab": {
          "base_uri": "https://localhost:8080/",
          "height": 295
        },
        "id": "jltNkRiU-dTt",
        "outputId": "67dbe509-5c58-4884-8c75-11a140297344"
      },
      "execution_count": null,
      "outputs": [
        {
          "output_type": "display_data",
          "data": {
            "text/plain": [
              "<Figure size 432x288 with 1 Axes>"
            ],
            "image/png": "[encoded data removed]"
          },
          "metadata": {
            "needs_background": "light"
          }
        }
      ]
    },
    {
      "cell_type": "code",
      "source": [
        "plt.scatter(x= dfMarathon['Wall21'], y= dfMarathon['MarathonTime'])\n",
        "plt.title('Wall21 vs Marathon time')\n",
        "plt.xlabel('Wall21')\n",
        "plt.ylabel('Marathon time')\n",
        "plt.show()"
      ],
      "metadata": {
        "colab": {
          "base_uri": "https://localhost:8080/",
          "height": 295
        },
        "id": "LTRYn9Lo-l6N",
        "outputId": "6e5c1daf-2510-4968-abe9-749760a5de23"
      },
      "execution_count": null,
      "outputs": [
        {
          "output_type": "display_data",
          "data": {
            "text/plain": [
              "<Figure size 432x288 with 1 Axes>"
            ],
            "image/png": "[encoded data removed]"
          },
          "metadata": {
            "needs_background": "light"
          }
        }
      ]
    },
    {
      "cell_type": "code",
      "source": [
        "plt.scatter(x= dfMarathon['CrossTraining'], y= dfMarathon['MarathonTime'])\n",
        "plt.title('CrossTraining vs Marathon time')\n",
        "plt.xlabel('CrossTraining')\n",
        "plt.ylabel('Marathon time')\n",
        "plt.show()"
      ],
      "metadata": {
        "colab": {
          "base_uri": "https://localhost:8080/",
          "height": 295
        },
        "id": "4QfqK2_Q-xjR",
        "outputId": "015aca86-e068-410f-91a7-07446e05f7a6"
      },
      "execution_count": null,
      "outputs": [
        {
          "output_type": "display_data",
          "data": {
            "text/plain": [
              "<Figure size 432x288 with 1 Axes>"
            ],
            "image/png": "[encoded data removed]"
          },
          "metadata": {
            "needs_background": "light"
          }
        }
      ]
    },
    {
      "cell_type": "markdown",
      "source": [
        "#Fase 2#\n",
        "\n",
        "Entrenamiento de modelo"
      ],
      "metadata": {
        "id": "I7wShClmAPGx"
      }
    },
    {
      "cell_type": "code",
      "source": [
        "datos_entrenamiento = dfMarathon.sample(frac=0.8, random_state=0)\n",
        "datos_test = dfMarathon.drop(datos_entrenamiento.index)\n",
        "print('Datos de entrenamiento (80%)', datos_entrenamiento.shape[0], '\\n')\n",
        "print('Datos para pruebas (20%)', datos_test.shape[0])"
      ],
      "metadata": {
        "colab": {
          "base_uri": "https://localhost:8080/"
        },
        "id": "xu6ce6AzAWMF",
        "outputId": "eaf00d06-2b3c-4274-b572-8e30bbec2437"
      },
      "execution_count": null,
      "outputs": [
        {
          "output_type": "stream",
          "name": "stdout",
          "text": [
            "Datos de entrenamiento (80%) 64 \n",
            "\n",
            "Datos para pruebas (20%) 16\n"
          ]
        }
      ]
    },
    {
      "cell_type": "code",
      "source": [
        "etiquetas_entrenamiento = datos_entrenamiento.pop('MarathonTime')\n",
        "etiquetas_test = datos_test.pop('MarathonTime')\n",
        "etiquetas_entrenamiento.head"
      ],
      "metadata": {
        "colab": {
          "base_uri": "https://localhost:8080/"
        },
        "id": "FJFeYk_tBh6C",
        "outputId": "0b192c13-f702-42fa-b333-6a4cc76e5d26"
      },
      "execution_count": null,
      "outputs": [
        {
          "output_type": "execute_result",
          "data": {
            "text/plain": [
              "<bound method NDFrame.head of 54    3.47\n",
              "28    3.15\n",
              "31    3.19\n",
              "84    3.94\n",
              "47    3.35\n",
              "      ... \n",
              "55    3.50\n",
              "20    2.99\n",
              "79    3.90\n",
              "8     2.83\n",
              "13    2.88\n",
              "Name: MarathonTime, Length: 64, dtype: float64>"
            ]
          },
          "metadata": {},
          "execution_count": 58
        }
      ]
    },
    {
      "cell_type": "code",
      "source": [
        "datos_entrenamiento.head()"
      ],
      "metadata": {
        "colab": {
          "base_uri": "https://localhost:8080/",
          "height": 206
        },
        "id": "_Grhmaq9Byvg",
        "outputId": "e7d63c98-c3fc-4aad-8e34-e83476b93a90"
      },
      "execution_count": null,
      "outputs": [
        {
          "output_type": "execute_result",
          "data": {
            "text/plain": [
              "    km4week    sp4week  CrossTraining  Wall21  CAT_M40  CAT_M45  CAT_M50  \\\n",
              "54     70.7  11.783333              0    1.77        1        0        0   \n",
              "28     51.6  13.008403              0    1.50        0        1        0   \n",
              "31     79.4  13.344538              0    1.60        0        0        0   \n",
              "84     55.4  11.043189              0    1.94        1        0        0   \n",
              "47     39.6  12.247423              0    1.67        0        1        0   \n",
              "\n",
              "    CAT_M55  CAT_MAM  CAT_WAM  \n",
              "54        0        0        0  \n",
              "28        0        0        0  \n",
              "31        0        1        0  \n",
              "84        0        0        0  \n",
              "47        0        0        0  "
            ],
            "text/html": [
              "\n",
              "  <div id=\"df-2cfc5943-c887-4fe0-a324-a7ed6462414d\">\n",
              "    <div class=\"colab-df-container\">\n",
              "      <div>\n",
              "<style scoped>\n",
              "    .dataframe tbody tr th:only-of-type {\n",
              "        vertical-align: middle;\n",
              "    }\n",
              "\n",
              "    .dataframe tbody tr th {\n",
              "        vertical-align: top;\n",
              "    }\n",
              "\n",
              "    .dataframe thead th {\n",
              "        text-align: right;\n",
              "    }\n",
              "</style>\n",
              "<table border=\"1\" class=\"dataframe\">\n",
              "  <thead>\n",
              "    <tr style=\"text-align: right;\">\n",
              "      <th></th>\n",
              "      <th>km4week</th>\n",
              "      <th>sp4week</th>\n",
              "      <th>CrossTraining</th>\n",
              "      <th>Wall21</th>\n",
              "      <th>CAT_M40</th>\n",
              "      <th>CAT_M45</th>\n",
              "      <th>CAT_M50</th>\n",
              "      <th>CAT_M55</th>\n",
              "      <th>CAT_MAM</th>\n",
              "      <th>CAT_WAM</th>\n",
              "    </tr>\n",
              "  </thead>\n",
              "  <tbody>\n",
              "    <tr>\n",
              "      <th>54</th>\n",
              "      <td>70.7</td>\n",
              "      <td>11.783333</td>\n",
              "      <td>0</td>\n",
              "      <td>1.77</td>\n",
              "      <td>1</td>\n",
              "      <td>0</td>\n",
              "      <td>0</td>\n",
              "      <td>0</td>\n",
              "      <td>0</td>\n",
              "      <td>0</td>\n",
              "    </tr>\n",
              "    <tr>\n",
              "      <th>28</th>\n",
              "      <td>51.6</td>\n",
              "      <td>13.008403</td>\n",
              "      <td>0</td>\n",
              "      <td>1.50</td>\n",
              "      <td>0</td>\n",
              "      <td>1</td>\n",
              "      <td>0</td>\n",
              "      <td>0</td>\n",
              "      <td>0</td>\n",
              "      <td>0</td>\n",
              "    </tr>\n",
              "    <tr>\n",
              "      <th>31</th>\n",
              "      <td>79.4</td>\n",
              "      <td>13.344538</td>\n",
              "      <td>0</td>\n",
              "      <td>1.60</td>\n",
              "      <td>0</td>\n",
              "      <td>0</td>\n",
              "      <td>0</td>\n",
              "      <td>0</td>\n",
              "      <td>1</td>\n",
              "      <td>0</td>\n",
              "    </tr>\n",
              "    <tr>\n",
              "      <th>84</th>\n",
              "      <td>55.4</td>\n",
              "      <td>11.043189</td>\n",
              "      <td>0</td>\n",
              "      <td>1.94</td>\n",
              "      <td>1</td>\n",
              "      <td>0</td>\n",
              "      <td>0</td>\n",
              "      <td>0</td>\n",
              "      <td>0</td>\n",
              "      <td>0</td>\n",
              "    </tr>\n",
              "    <tr>\n",
              "      <th>47</th>\n",
              "      <td>39.6</td>\n",
              "      <td>12.247423</td>\n",
              "      <td>0</td>\n",
              "      <td>1.67</td>\n",
              "      <td>0</td>\n",
              "      <td>1</td>\n",
              "      <td>0</td>\n",
              "      <td>0</td>\n",
              "      <td>0</td>\n",
              "      <td>0</td>\n",
              "    </tr>\n",
              "  </tbody>\n",
              "</table>\n",
              "</div>\n",
              "      <button class=\"colab-df-convert\" onclick=\"convertToInteractive('df-2cfc5943-c887-4fe0-a324-a7ed6462414d')\"\n",
              "              title=\"Convert this dataframe to an interactive table.\"\n",
              "              style=\"display:none;\">\n",
              "        \n",
              "  <svg xmlns=\"http://www.w3.org/2000/svg\" height=\"24px\"viewBox=\"0 0 24 24\"\n",
              "       width=\"24px\">\n",
              "    <path d=\"M0 0h24v24H0V0z\" fill=\"none\"/>\n",
              "    <path d=\"M18.56 5.44l.94 2.06.94-2.06 2.06-.94-2.06-.94-.94-2.06-.94 2.06-2.06.94zm-11 1L8.5 8.5l.94-2.06 2.06-.94-2.06-.94L8.5 2.5l-.94 2.06-2.06.94zm10 10l.94 2.06.94-2.06 2.06-.94-2.06-.94-.94-2.06-.94 2.06-2.06.94z\"/><path d=\"M17.41 7.96l-1.37-1.37c-.4-.4-.92-.59-1.43-.59-.52 0-1.04.2-1.43.59L10.3 9.45l-7.72 7.72c-.78.78-.78 2.05 0 2.83L4 21.41c.39.39.9.59 1.41.59.51 0 1.02-.2 1.41-.59l7.78-7.78 2.81-2.81c.8-.78.8-2.07 0-2.86zM5.41 20L4 18.59l7.72-7.72 1.47 1.35L5.41 20z\"/>\n",
              "  </svg>\n",
              "      </button>\n",
              "      \n",
              "  <style>\n",
              "    .colab-df-container {\n",
              "      display:flex;\n",
              "      flex-wrap:wrap;\n",
              "      gap: 12px;\n",
              "    }\n",
              "\n",
              "    .colab-df-convert {\n",
              "      background-color: #E8F0FE;\n",
              "      border: none;\n",
              "      border-radius: 50%;\n",
              "      cursor: pointer;\n",
              "      display: none;\n",
              "      fill: #1967D2;\n",
              "      height: 32px;\n",
              "      padding: 0 0 0 0;\n",
              "      width: 32px;\n",
              "    }\n",
              "\n",
              "    .colab-df-convert:hover {\n",
              "      background-color: #E2EBFA;\n",
              "      box-shadow: 0px 1px 2px rgba(60, 64, 67, 0.3), 0px 1px 3px 1px rgba(60, 64, 67, 0.15);\n",
              "      fill: #174EA6;\n",
              "    }\n",
              "\n",
              "    [theme=dark] .colab-df-convert {\n",
              "      background-color: #3B4455;\n",
              "      fill: #D2E3FC;\n",
              "    }\n",
              "\n",
              "    [theme=dark] .colab-df-convert:hover {\n",
              "      background-color: #434B5C;\n",
              "      box-shadow: 0px 1px 3px 1px rgba(0, 0, 0, 0.15);\n",
              "      filter: drop-shadow(0px 1px 2px rgba(0, 0, 0, 0.3));\n",
              "      fill: #FFFFFF;\n",
              "    }\n",
              "  </style>\n",
              "\n",
              "      <script>\n",
              "        const buttonEl =\n",
              "          document.querySelector('#df-2cfc5943-c887-4fe0-a324-a7ed6462414d button.colab-df-convert');\n",
              "        buttonEl.style.display =\n",
              "          google.colab.kernel.accessAllowed ? 'block' : 'none';\n",
              "\n",
              "        async function convertToInteractive(key) {\n",
              "          const element = document.querySelector('#df-2cfc5943-c887-4fe0-a324-a7ed6462414d');\n",
              "          const dataTable =\n",
              "            await google.colab.kernel.invokeFunction('convertToInteractive',\n",
              "                                                     [key], {});\n",
              "          if (!dataTable) return;\n",
              "\n",
              "          const docLinkHtml = 'Like what you see? Visit the ' +\n",
              "            '<a target=\"_blank\" href=https://colab.research.google.com/notebooks/data_table.ipynb>data table notebook</a>'\n",
              "            + ' to learn more about interactive tables.';\n",
              "          element.innerHTML = '';\n",
              "          dataTable['output_type'] = 'display_data';\n",
              "          await google.colab.output.renderOutput(dataTable, element);\n",
              "          const docLink = document.createElement('div');\n",
              "          docLink.innerHTML = docLinkHtml;\n",
              "          element.appendChild(docLink);\n",
              "        }\n",
              "      </script>\n",
              "    </div>\n",
              "  </div>\n",
              "  "
            ]
          },
          "metadata": {},
          "execution_count": 59
        }
      ]
    },
    {
      "cell_type": "code",
      "source": [
        "from sklearn.linear_model import LinearRegression\n",
        "modelo = LinearRegression()\n",
        "modelo.fit(datos_entrenamiento, etiquetas_entrenamiento)"
      ],
      "metadata": {
        "colab": {
          "base_uri": "https://localhost:8080/"
        },
        "id": "j7jHFIw3B9Pa",
        "outputId": "adcfc603-970e-4afe-90b2-fbc0ac86ba19"
      },
      "execution_count": null,
      "outputs": [
        {
          "output_type": "execute_result",
          "data": {
            "text/plain": [
              "LinearRegression()"
            ]
          },
          "metadata": {},
          "execution_count": 60
        }
      ]
    },
    {
      "cell_type": "code",
      "source": [
        "predicciones = modelo.predict(datos_test)\n",
        "predicciones "
      ],
      "metadata": {
        "colab": {
          "base_uri": "https://localhost:8080/"
        },
        "id": "40lpOUr0CSV9",
        "outputId": "773ceb31-29d1-43bb-d1e3-5877bfb3579d"
      },
      "execution_count": null,
      "outputs": [
        {
          "output_type": "execute_result",
          "data": {
            "text/plain": [
              "array([2.80053896, 2.83447594, 3.06418527, 2.92922688, 3.05499957,\n",
              "       3.17026   , 3.39413785, 3.24259245, 3.18140466, 3.28567351,\n",
              "       3.38454939, 3.51506405, 3.58834999, 3.57374464, 3.67121957,\n",
              "       3.86351016])"
            ]
          },
          "metadata": {},
          "execution_count": 61
        }
      ]
    },
    {
      "cell_type": "code",
      "source": [
        "import numpy as np\n",
        "from sklearn.metrics import mean_squared_error\n",
        "error = np.sqrt(mean_squared_error(etiquetas_test, predicciones))\n",
        "print('Error porcentual:   %f' %(error*100))"
      ],
      "metadata": {
        "colab": {
          "base_uri": "https://localhost:8080/"
        },
        "id": "guDksI1vCi9G",
        "outputId": "79b049df-d858-470f-e0e9-4346a6113671"
      },
      "execution_count": null,
      "outputs": [
        {
          "output_type": "stream",
          "name": "stdout",
          "text": [
            "Error porcentual:   12.042777\n"
          ]
        }
      ]
    },
    {
      "cell_type": "code",
      "source": [
        "nvo_corredor = pd.DataFrame(np.array([[400,15,0,1.4,0, 0, 1, 0, 0, 0]]), columns=['km4week', 'sp4week', 'CrossTraining', 'Wall21', 'CAT_M40', 'CAT_M45', 'CAT_M50', 'CAT_M55', 'CAT_MAM', 'CAT_WAM'])\n",
        "nvo_corredor"
      ],
      "metadata": {
        "colab": {
          "base_uri": "https://localhost:8080/",
          "height": 81
        },
        "id": "oJCXCYQDDJbP",
        "outputId": "ede9d49c-da42-4d92-a5be-9c78f4eec264"
      },
      "execution_count": null,
      "outputs": [
        {
          "output_type": "execute_result",
          "data": {
            "text/plain": [
              "   km4week  sp4week  CrossTraining  Wall21  CAT_M40  CAT_M45  CAT_M50  \\\n",
              "0    400.0     15.0            0.0     1.4      0.0      0.0      1.0   \n",
              "\n",
              "   CAT_M55  CAT_MAM  CAT_WAM  \n",
              "0      0.0      0.0      0.0  "
            ],
            "text/html": [
              "\n",
              "  <div id=\"df-ae73c246-9f17-452d-9a8d-bed6135d73c9\">\n",
              "    <div class=\"colab-df-container\">\n",
              "      <div>\n",
              "<style scoped>\n",
              "    .dataframe tbody tr th:only-of-type {\n",
              "        vertical-align: middle;\n",
              "    }\n",
              "\n",
              "    .dataframe tbody tr th {\n",
              "        vertical-align: top;\n",
              "    }\n",
              "\n",
              "    .dataframe thead th {\n",
              "        text-align: right;\n",
              "    }\n",
              "</style>\n",
              "<table border=\"1\" class=\"dataframe\">\n",
              "  <thead>\n",
              "    <tr style=\"text-align: right;\">\n",
              "      <th></th>\n",
              "      <th>km4week</th>\n",
              "      <th>sp4week</th>\n",
              "      <th>CrossTraining</th>\n",
              "      <th>Wall21</th>\n",
              "      <th>CAT_M40</th>\n",
              "      <th>CAT_M45</th>\n",
              "      <th>CAT_M50</th>\n",
              "      <th>CAT_M55</th>\n",
              "      <th>CAT_MAM</th>\n",
              "      <th>CAT_WAM</th>\n",
              "    </tr>\n",
              "  </thead>\n",
              "  <tbody>\n",
              "    <tr>\n",
              "      <th>0</th>\n",
              "      <td>400.0</td>\n",
              "      <td>15.0</td>\n",
              "      <td>0.0</td>\n",
              "      <td>1.4</td>\n",
              "      <td>0.0</td>\n",
              "      <td>0.0</td>\n",
              "      <td>1.0</td>\n",
              "      <td>0.0</td>\n",
              "      <td>0.0</td>\n",
              "      <td>0.0</td>\n",
              "    </tr>\n",
              "  </tbody>\n",
              "</table>\n",
              "</div>\n",
              "      <button class=\"colab-df-convert\" onclick=\"convertToInteractive('df-ae73c246-9f17-452d-9a8d-bed6135d73c9')\"\n",
              "              title=\"Convert this dataframe to an interactive table.\"\n",
              "              style=\"display:none;\">\n",
              "        \n",
              "  <svg xmlns=\"http://www.w3.org/2000/svg\" height=\"24px\"viewBox=\"0 0 24 24\"\n",
              "       width=\"24px\">\n",
              "    <path d=\"M0 0h24v24H0V0z\" fill=\"none\"/>\n",
              "    <path d=\"M18.56 5.44l.94 2.06.94-2.06 2.06-.94-2.06-.94-.94-2.06-.94 2.06-2.06.94zm-11 1L8.5 8.5l.94-2.06 2.06-.94-2.06-.94L8.5 2.5l-.94 2.06-2.06.94zm10 10l.94 2.06.94-2.06 2.06-.94-2.06-.94-.94-2.06-.94 2.06-2.06.94z\"/><path d=\"M17.41 7.96l-1.37-1.37c-.4-.4-.92-.59-1.43-.59-.52 0-1.04.2-1.43.59L10.3 9.45l-7.72 7.72c-.78.78-.78 2.05 0 2.83L4 21.41c.39.39.9.59 1.41.59.51 0 1.02-.2 1.41-.59l7.78-7.78 2.81-2.81c.8-.78.8-2.07 0-2.86zM5.41 20L4 18.59l7.72-7.72 1.47 1.35L5.41 20z\"/>\n",
              "  </svg>\n",
              "      </button>\n",
              "      \n",
              "  <style>\n",
              "    .colab-df-container {\n",
              "      display:flex;\n",
              "      flex-wrap:wrap;\n",
              "      gap: 12px;\n",
              "    }\n",
              "\n",
              "    .colab-df-convert {\n",
              "      background-color: #E8F0FE;\n",
              "      border: none;\n",
              "      border-radius: 50%;\n",
              "      cursor: pointer;\n",
              "      display: none;\n",
              "      fill: #1967D2;\n",
              "      height: 32px;\n",
              "      padding: 0 0 0 0;\n",
              "      width: 32px;\n",
              "    }\n",
              "\n",
              "    .colab-df-convert:hover {\n",
              "      background-color: #E2EBFA;\n",
              "      box-shadow: 0px 1px 2px rgba(60, 64, 67, 0.3), 0px 1px 3px 1px rgba(60, 64, 67, 0.15);\n",
              "      fill: #174EA6;\n",
              "    }\n",
              "\n",
              "    [theme=dark] .colab-df-convert {\n",
              "      background-color: #3B4455;\n",
              "      fill: #D2E3FC;\n",
              "    }\n",
              "\n",
              "    [theme=dark] .colab-df-convert:hover {\n",
              "      background-color: #434B5C;\n",
              "      box-shadow: 0px 1px 3px 1px rgba(0, 0, 0, 0.15);\n",
              "      filter: drop-shadow(0px 1px 2px rgba(0, 0, 0, 0.3));\n",
              "      fill: #FFFFFF;\n",
              "    }\n",
              "  </style>\n",
              "\n",
              "      <script>\n",
              "        const buttonEl =\n",
              "          document.querySelector('#df-ae73c246-9f17-452d-9a8d-bed6135d73c9 button.colab-df-convert');\n",
              "        buttonEl.style.display =\n",
              "          google.colab.kernel.accessAllowed ? 'block' : 'none';\n",
              "\n",
              "        async function convertToInteractive(key) {\n",
              "          const element = document.querySelector('#df-ae73c246-9f17-452d-9a8d-bed6135d73c9');\n",
              "          const dataTable =\n",
              "            await google.colab.kernel.invokeFunction('convertToInteractive',\n",
              "                                                     [key], {});\n",
              "          if (!dataTable) return;\n",
              "\n",
              "          const docLinkHtml = 'Like what you see? Visit the ' +\n",
              "            '<a target=\"_blank\" href=https://colab.research.google.com/notebooks/data_table.ipynb>data table notebook</a>'\n",
              "            + ' to learn more about interactive tables.';\n",
              "          element.innerHTML = '';\n",
              "          dataTable['output_type'] = 'display_data';\n",
              "          await google.colab.output.renderOutput(dataTable, element);\n",
              "          const docLink = document.createElement('div');\n",
              "          docLink.innerHTML = docLinkHtml;\n",
              "          element.appendChild(docLink);\n",
              "        }\n",
              "      </script>\n",
              "    </div>\n",
              "  </div>\n",
              "  "
            ]
          },
          "metadata": {},
          "execution_count": 63
        }
      ]
    },
    {
      "cell_type": "code",
      "source": [
        "modelo.predict(nvo_corredor)"
      ],
      "metadata": {
        "colab": {
          "base_uri": "https://localhost:8080/"
        },
        "id": "B6t5FNmQDswe",
        "outputId": "4a1081b0-6921-4080-d243-3c18a35e8ec0"
      },
      "execution_count": null,
      "outputs": [
        {
          "output_type": "execute_result",
          "data": {
            "text/plain": [
              "array([2.35702166])"
            ]
          },
          "metadata": {},
          "execution_count": 64
        }
      ]
    }
  ]
}